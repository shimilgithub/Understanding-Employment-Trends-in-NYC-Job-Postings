{
 "cells": [
  {
   "cell_type": "markdown",
   "metadata": {
    "id": "SnxFOfpnoAGc"
   },
   "source": [
    "# Understanding Employment Trends in NYC Job Postings"
   ]
  },
  {
   "cell_type": "markdown",
   "metadata": {},
   "source": [
    "```\n",
    "Team 9 Members:\n",
    "  Nikhil Patil\n",
    "  Shimil Shijo\n",
    "  Srinivasa Reddy Gurram\n",
    "```"
   ]
  },
  {
   "cell_type": "markdown",
   "metadata": {
    "id": "pVzCJXQefRYu"
   },
   "source": [
    "This project analyzes job market disparities in New York City using the NYC Jobs dataset. It investigates salary variations, competitive postings, residency requirements, and demographic impacts through regression, clustering, and classification techniques. The findings are visualized through dashboards to provide actionable insights into employment trends and inequalities."
   ]
  },
  {
   "cell_type": "markdown",
   "metadata": {
    "id": "nZyGOTk2qH7t"
   },
   "source": [
    "## Install and Import necessary packages"
   ]
  },
  {
   "cell_type": "code",
   "execution_count": 1,
   "metadata": {},
   "outputs": [
    {
     "name": "stdout",
     "output_type": "stream",
     "text": [
      "Requirement already satisfied: shap in c:\\users\\shimil\\anaconda3\\lib\\site-packages (0.46.0)\n",
      "Requirement already satisfied: numpy in c:\\users\\shimil\\anaconda3\\lib\\site-packages (from shap) (1.26.4)\n",
      "Requirement already satisfied: scipy in c:\\users\\shimil\\anaconda3\\lib\\site-packages (from shap) (1.13.1)\n",
      "Requirement already satisfied: scikit-learn in c:\\users\\shimil\\anaconda3\\lib\\site-packages (from shap) (1.4.2)\n",
      "Requirement already satisfied: pandas in c:\\users\\shimil\\anaconda3\\lib\\site-packages (from shap) (2.2.2)\n",
      "Requirement already satisfied: tqdm>=4.27.0 in c:\\users\\shimil\\anaconda3\\lib\\site-packages (from shap) (4.66.4)\n",
      "Requirement already satisfied: packaging>20.9 in c:\\users\\shimil\\anaconda3\\lib\\site-packages (from shap) (23.2)\n",
      "Requirement already satisfied: slicer==0.0.8 in c:\\users\\shimil\\anaconda3\\lib\\site-packages (from shap) (0.0.8)\n",
      "Requirement already satisfied: numba in c:\\users\\shimil\\anaconda3\\lib\\site-packages (from shap) (0.59.1)\n",
      "Requirement already satisfied: cloudpickle in c:\\users\\shimil\\anaconda3\\lib\\site-packages (from shap) (2.2.1)\n",
      "Requirement already satisfied: colorama in c:\\users\\shimil\\anaconda3\\lib\\site-packages (from tqdm>=4.27.0->shap) (0.4.6)\n",
      "Requirement already satisfied: llvmlite<0.43,>=0.42.0dev0 in c:\\users\\shimil\\anaconda3\\lib\\site-packages (from numba->shap) (0.42.0)\n",
      "Requirement already satisfied: python-dateutil>=2.8.2 in c:\\users\\shimil\\anaconda3\\lib\\site-packages (from pandas->shap) (2.9.0.post0)\n",
      "Requirement already satisfied: pytz>=2020.1 in c:\\users\\shimil\\anaconda3\\lib\\site-packages (from pandas->shap) (2024.1)\n",
      "Requirement already satisfied: tzdata>=2022.7 in c:\\users\\shimil\\anaconda3\\lib\\site-packages (from pandas->shap) (2023.3)\n",
      "Requirement already satisfied: joblib>=1.2.0 in c:\\users\\shimil\\anaconda3\\lib\\site-packages (from scikit-learn->shap) (1.4.2)\n",
      "Requirement already satisfied: threadpoolctl>=2.0.0 in c:\\users\\shimil\\anaconda3\\lib\\site-packages (from scikit-learn->shap) (2.2.0)\n",
      "Requirement already satisfied: six>=1.5 in c:\\users\\shimil\\anaconda3\\lib\\site-packages (from python-dateutil>=2.8.2->pandas->shap) (1.16.0)\n"
     ]
    }
   ],
   "source": [
    "!pip install shap"
   ]
  },
  {
   "cell_type": "code",
   "execution_count": 2,
   "metadata": {
    "executionInfo": {
     "elapsed": 176,
     "status": "ok",
     "timestamp": 1733517395868,
     "user": {
      "displayName": "Shimil Shijo",
      "userId": "13108531863900195790"
     },
     "user_tz": 300
    },
    "id": "LDV-rMu2n_f7"
   },
   "outputs": [],
   "source": [
    "import numpy as np\n",
    "import pandas as pd\n",
    "import matplotlib.pyplot as plt\n",
    "import seaborn as sns\n",
    "import shap\n",
    "import warnings\n",
    "import seaborn.objects as so\n",
    "import statsmodels.api as sm\n",
    "from tabulate import tabulate\n",
    "from sklearn.model_selection import train_test_split, cross_val_score,  GridSearchCV, KFold\n",
    "from sklearn.preprocessing import LabelEncoder, StandardScaler\n",
    "from sklearn.feature_extraction.text import TfidfVectorizer\n",
    "from sklearn.pipeline import make_pipeline\n",
    "from sklearn.ensemble import RandomForestClassifier\n",
    "from sklearn.linear_model import LinearRegression, LogisticRegression,Ridge, Lasso\n",
    "from sklearn.cluster import KMeans\n",
    "from sklearn.metrics import classification_report, confusion_matrix, silhouette_score, roc_curve, auc, precision_recall_curve"
   ]
  },
  {
   "cell_type": "code",
   "execution_count": 3,
   "metadata": {
    "executionInfo": {
     "elapsed": 4,
     "status": "ok",
     "timestamp": 1733517396066,
     "user": {
      "displayName": "Shimil Shijo",
      "userId": "13108531863900195790"
     },
     "user_tz": 300
    },
    "id": "6GmW_MbY_mnn"
   },
   "outputs": [],
   "source": [
    "# Disable all warnings\n",
    "warnings.filterwarnings(\"ignore\")"
   ]
  },
  {
   "cell_type": "markdown",
   "metadata": {
    "id": "p6Zfi56gqMb0"
   },
   "source": [
    "## Explore the dataset"
   ]
  },
  {
   "cell_type": "markdown",
   "metadata": {
    "id": "lz7gC9DqwnfJ"
   },
   "source": [
    "### Read data"
   ]
  },
  {
   "cell_type": "code",
   "execution_count": 4,
   "metadata": {
    "colab": {
     "base_uri": "https://localhost:8080/",
     "height": 637
    },
    "executionInfo": {
     "elapsed": 396,
     "status": "ok",
     "timestamp": 1733517396459,
     "user": {
      "displayName": "Shimil Shijo",
      "userId": "13108531863900195790"
     },
     "user_tz": 300
    },
    "id": "79yaAy35n_jL",
    "outputId": "fe82ba0d-38ce-4432-f637-7cb687557fa8"
   },
   "outputs": [
    {
     "data": {
      "text/html": [
       "<div>\n",
       "<style scoped>\n",
       "    .dataframe tbody tr th:only-of-type {\n",
       "        vertical-align: middle;\n",
       "    }\n",
       "\n",
       "    .dataframe tbody tr th {\n",
       "        vertical-align: top;\n",
       "    }\n",
       "\n",
       "    .dataframe thead th {\n",
       "        text-align: right;\n",
       "    }\n",
       "</style>\n",
       "<table border=\"1\" class=\"dataframe\">\n",
       "  <thead>\n",
       "    <tr style=\"text-align: right;\">\n",
       "      <th></th>\n",
       "      <th>Job ID</th>\n",
       "      <th>Agency</th>\n",
       "      <th>Posting Type</th>\n",
       "      <th># Of Positions</th>\n",
       "      <th>Business Title</th>\n",
       "      <th>Civil Service Title</th>\n",
       "      <th>Title Classification</th>\n",
       "      <th>Title Code No</th>\n",
       "      <th>Level</th>\n",
       "      <th>Job Category</th>\n",
       "      <th>...</th>\n",
       "      <th>Additional Information</th>\n",
       "      <th>To Apply</th>\n",
       "      <th>Hours/Shift</th>\n",
       "      <th>Work Location 1</th>\n",
       "      <th>Recruitment Contact</th>\n",
       "      <th>Residency Requirement</th>\n",
       "      <th>Posting Date</th>\n",
       "      <th>Post Until</th>\n",
       "      <th>Posting Updated</th>\n",
       "      <th>Process Date</th>\n",
       "    </tr>\n",
       "  </thead>\n",
       "  <tbody>\n",
       "    <tr>\n",
       "      <th>0</th>\n",
       "      <td>621930</td>\n",
       "      <td>HRA/DEPT OF SOCIAL SERVICES</td>\n",
       "      <td>External</td>\n",
       "      <td>1</td>\n",
       "      <td>DOMESTIC VIOLENCE AUDIT BILLING SPECIALIST</td>\n",
       "      <td>PRINCIPAL ADMINISTRATIVE ASSOC</td>\n",
       "      <td>Competitive-1</td>\n",
       "      <td>10124</td>\n",
       "      <td>01</td>\n",
       "      <td>Social Services</td>\n",
       "      <td>...</td>\n",
       "      <td>In addition, the Human Resources Administratio...</td>\n",
       "      <td>Click Apply Now Button</td>\n",
       "      <td>9:00a-5:00p</td>\n",
       "      <td>4 World Trade Center</td>\n",
       "      <td>NaN</td>\n",
       "      <td>New York City residency is generally required ...</td>\n",
       "      <td>01/03/2024</td>\n",
       "      <td>NaN</td>\n",
       "      <td>01/03/2024</td>\n",
       "      <td>10/21/2024</td>\n",
       "    </tr>\n",
       "    <tr>\n",
       "      <th>1</th>\n",
       "      <td>632973</td>\n",
       "      <td>DEPARTMENT OF TRANSPORTATION</td>\n",
       "      <td>Internal</td>\n",
       "      <td>3</td>\n",
       "      <td>Assistant General Counsel</td>\n",
       "      <td>AGENCY ATTORNEY</td>\n",
       "      <td>Non-Competitive-5</td>\n",
       "      <td>30087</td>\n",
       "      <td>02</td>\n",
       "      <td>Legal Affairs</td>\n",
       "      <td>...</td>\n",
       "      <td>NaN</td>\n",
       "      <td>All resumes are to be submitted electronically...</td>\n",
       "      <td>35hrs</td>\n",
       "      <td>55 Water Street, NY, NY</td>\n",
       "      <td>NaN</td>\n",
       "      <td>New York City Residency is not required for th...</td>\n",
       "      <td>04/11/2024</td>\n",
       "      <td>NaN</td>\n",
       "      <td>04/11/2024</td>\n",
       "      <td>10/21/2024</td>\n",
       "    </tr>\n",
       "    <tr>\n",
       "      <th>2</th>\n",
       "      <td>577109</td>\n",
       "      <td>DEPARTMENT OF TRANSPORTATION</td>\n",
       "      <td>Internal</td>\n",
       "      <td>2</td>\n",
       "      <td>Freight Program Lead</td>\n",
       "      <td>CITY PLANNER</td>\n",
       "      <td>Competitive-1</td>\n",
       "      <td>22122</td>\n",
       "      <td>03</td>\n",
       "      <td>Engineering, Architecture, &amp; Planning</td>\n",
       "      <td>...</td>\n",
       "      <td>This position is open to qualified persons wit...</td>\n",
       "      <td>All resumes are to be submitted electronically...</td>\n",
       "      <td>35hrs / 9 - 5</td>\n",
       "      <td>55 Water St Ny Ny</td>\n",
       "      <td>NaN</td>\n",
       "      <td>New York City residency is generally required ...</td>\n",
       "      <td>03/15/2023</td>\n",
       "      <td>NaN</td>\n",
       "      <td>03/28/2023</td>\n",
       "      <td>10/21/2024</td>\n",
       "    </tr>\n",
       "    <tr>\n",
       "      <th>3</th>\n",
       "      <td>681398</td>\n",
       "      <td>OFFICE OF THE COMPTROLLER</td>\n",
       "      <td>Internal</td>\n",
       "      <td>1</td>\n",
       "      <td>Claim Specialist, Level II - Property Damage (...</td>\n",
       "      <td>CLAIM SPECIALIST</td>\n",
       "      <td>Competitive-1</td>\n",
       "      <td>30726</td>\n",
       "      <td>02</td>\n",
       "      <td>Legal Affairs</td>\n",
       "      <td>...</td>\n",
       "      <td>NaN</td>\n",
       "      <td>NaN</td>\n",
       "      <td>NaN</td>\n",
       "      <td>NaN</td>\n",
       "      <td>NaN</td>\n",
       "      <td>New York City residency is generally required ...</td>\n",
       "      <td>09/23/2024</td>\n",
       "      <td>22-DEC-2024</td>\n",
       "      <td>09/24/2024</td>\n",
       "      <td>10/21/2024</td>\n",
       "    </tr>\n",
       "    <tr>\n",
       "      <th>4</th>\n",
       "      <td>602920</td>\n",
       "      <td>DEPT OF ENVIRONMENT PROTECTION</td>\n",
       "      <td>Internal</td>\n",
       "      <td>1</td>\n",
       "      <td>PAYMENT SPECIALIST</td>\n",
       "      <td>PROCUREMENT ANALYST</td>\n",
       "      <td>Competitive-1</td>\n",
       "      <td>12158</td>\n",
       "      <td>03</td>\n",
       "      <td>Finance, Accounting, &amp; Procurement</td>\n",
       "      <td>...</td>\n",
       "      <td>The City of New York is an inclusive equal opp...</td>\n",
       "      <td>Click on the Apply Now button</td>\n",
       "      <td>35 hours</td>\n",
       "      <td>59-17 Junction Blvd Flushing, NY 11373</td>\n",
       "      <td>NaN</td>\n",
       "      <td>New York City residency is generally required ...</td>\n",
       "      <td>10/06/2023</td>\n",
       "      <td>NaN</td>\n",
       "      <td>01/19/2024</td>\n",
       "      <td>10/21/2024</td>\n",
       "    </tr>\n",
       "  </tbody>\n",
       "</table>\n",
       "<p>5 rows × 30 columns</p>\n",
       "</div>"
      ],
      "text/plain": [
       "   Job ID                          Agency Posting Type  # Of Positions  \\\n",
       "0  621930     HRA/DEPT OF SOCIAL SERVICES     External               1   \n",
       "1  632973    DEPARTMENT OF TRANSPORTATION     Internal               3   \n",
       "2  577109    DEPARTMENT OF TRANSPORTATION     Internal               2   \n",
       "3  681398       OFFICE OF THE COMPTROLLER     Internal               1   \n",
       "4  602920  DEPT OF ENVIRONMENT PROTECTION     Internal               1   \n",
       "\n",
       "                                      Business Title  \\\n",
       "0         DOMESTIC VIOLENCE AUDIT BILLING SPECIALIST   \n",
       "1                          Assistant General Counsel   \n",
       "2                               Freight Program Lead   \n",
       "3  Claim Specialist, Level II - Property Damage (...   \n",
       "4                                 PAYMENT SPECIALIST   \n",
       "\n",
       "              Civil Service Title Title Classification Title Code No Level  \\\n",
       "0  PRINCIPAL ADMINISTRATIVE ASSOC        Competitive-1         10124    01   \n",
       "1                 AGENCY ATTORNEY    Non-Competitive-5         30087    02   \n",
       "2                    CITY PLANNER        Competitive-1         22122    03   \n",
       "3                CLAIM SPECIALIST        Competitive-1         30726    02   \n",
       "4             PROCUREMENT ANALYST        Competitive-1         12158    03   \n",
       "\n",
       "                            Job Category  ...  \\\n",
       "0                        Social Services  ...   \n",
       "1                          Legal Affairs  ...   \n",
       "2  Engineering, Architecture, & Planning  ...   \n",
       "3                          Legal Affairs  ...   \n",
       "4     Finance, Accounting, & Procurement  ...   \n",
       "\n",
       "                              Additional Information  \\\n",
       "0  In addition, the Human Resources Administratio...   \n",
       "1                                                NaN   \n",
       "2  This position is open to qualified persons wit...   \n",
       "3                                                NaN   \n",
       "4  The City of New York is an inclusive equal opp...   \n",
       "\n",
       "                                            To Apply    Hours/Shift  \\\n",
       "0                             Click Apply Now Button    9:00a-5:00p   \n",
       "1  All resumes are to be submitted electronically...          35hrs   \n",
       "2  All resumes are to be submitted electronically...  35hrs / 9 - 5   \n",
       "3                                                NaN            NaN   \n",
       "4                      Click on the Apply Now button       35 hours   \n",
       "\n",
       "                          Work Location 1 Recruitment Contact  \\\n",
       "0                    4 World Trade Center                 NaN   \n",
       "1                 55 Water Street, NY, NY                 NaN   \n",
       "2                       55 Water St Ny Ny                 NaN   \n",
       "3                                     NaN                 NaN   \n",
       "4  59-17 Junction Blvd Flushing, NY 11373                 NaN   \n",
       "\n",
       "                               Residency Requirement Posting Date  \\\n",
       "0  New York City residency is generally required ...   01/03/2024   \n",
       "1  New York City Residency is not required for th...   04/11/2024   \n",
       "2  New York City residency is generally required ...   03/15/2023   \n",
       "3  New York City residency is generally required ...   09/23/2024   \n",
       "4  New York City residency is generally required ...   10/06/2023   \n",
       "\n",
       "    Post Until Posting Updated Process Date  \n",
       "0          NaN      01/03/2024   10/21/2024  \n",
       "1          NaN      04/11/2024   10/21/2024  \n",
       "2          NaN      03/28/2023   10/21/2024  \n",
       "3  22-DEC-2024      09/24/2024   10/21/2024  \n",
       "4          NaN      01/19/2024   10/21/2024  \n",
       "\n",
       "[5 rows x 30 columns]"
      ]
     },
     "execution_count": 4,
     "metadata": {},
     "output_type": "execute_result"
    }
   ],
   "source": [
    "#Read data into pandas dataframe\n",
    "jobs = pd.read_csv('Jobs_NYC_Postings.csv')\n",
    "jobs.head()"
   ]
  },
  {
   "cell_type": "markdown",
   "metadata": {
    "id": "TumqGBkdwriX"
   },
   "source": [
    "### Field information"
   ]
  },
  {
   "cell_type": "code",
   "execution_count": 5,
   "metadata": {
    "colab": {
     "base_uri": "https://localhost:8080/"
    },
    "executionInfo": {
     "elapsed": 10,
     "status": "ok",
     "timestamp": 1733517396459,
     "user": {
      "displayName": "Shimil Shijo",
      "userId": "13108531863900195790"
     },
     "user_tz": 300
    },
    "id": "cHN-l70Mwdc0",
    "outputId": "47038feb-f74b-41cc-8c25-ab5da8f5880b"
   },
   "outputs": [
    {
     "name": "stdout",
     "output_type": "stream",
     "text": [
      "<class 'pandas.core.frame.DataFrame'>\n",
      "RangeIndex: 5411 entries, 0 to 5410\n",
      "Data columns (total 30 columns):\n",
      " #   Column                         Non-Null Count  Dtype  \n",
      "---  ------                         --------------  -----  \n",
      " 0   Job ID                         5411 non-null   int64  \n",
      " 1   Agency                         5411 non-null   object \n",
      " 2   Posting Type                   5411 non-null   object \n",
      " 3   # Of Positions                 5411 non-null   int64  \n",
      " 4   Business Title                 5411 non-null   object \n",
      " 5   Civil Service Title            5411 non-null   object \n",
      " 6   Title Classification           5411 non-null   object \n",
      " 7   Title Code No                  5411 non-null   object \n",
      " 8   Level                          5411 non-null   object \n",
      " 9   Job Category                   5411 non-null   object \n",
      " 10  Full-Time/Part-Time indicator  5411 non-null   object \n",
      " 11  Career Level                   5411 non-null   object \n",
      " 12  Salary Range From              5411 non-null   float64\n",
      " 13  Salary Range To                5411 non-null   float64\n",
      " 14  Salary Frequency               5411 non-null   object \n",
      " 15  Work Location                  5411 non-null   object \n",
      " 16  Division/Work Unit             5411 non-null   object \n",
      " 17  Job Description                5409 non-null   object \n",
      " 18  Minimum Qual Requirements      5351 non-null   object \n",
      " 19  Preferred Skills               3602 non-null   object \n",
      " 20  Additional Information         2707 non-null   object \n",
      " 21  To Apply                       3836 non-null   object \n",
      " 22  Hours/Shift                    1405 non-null   object \n",
      " 23  Work Location 1                1746 non-null   object \n",
      " 24  Recruitment Contact            0 non-null      float64\n",
      " 25  Residency Requirement          5411 non-null   object \n",
      " 26  Posting Date                   5411 non-null   object \n",
      " 27  Post Until                     1662 non-null   object \n",
      " 28  Posting Updated                5411 non-null   object \n",
      " 29  Process Date                   5411 non-null   object \n",
      "dtypes: float64(3), int64(2), object(25)\n",
      "memory usage: 1.2+ MB\n"
     ]
    }
   ],
   "source": [
    "#get the column names, count and its type\n",
    "jobs.info()"
   ]
  },
  {
   "cell_type": "markdown",
   "metadata": {
    "id": "fylgkyymqTf9"
   },
   "source": [
    "## Data Pre-processing and Feature Engineering"
   ]
  },
  {
   "cell_type": "markdown",
   "metadata": {
    "id": "NrywIvKR4NnX"
   },
   "source": [
    "### A. Rename Columns"
   ]
  },
  {
   "cell_type": "code",
   "execution_count": 6,
   "metadata": {
    "colab": {
     "base_uri": "https://localhost:8080/"
    },
    "executionInfo": {
     "elapsed": 8,
     "status": "ok",
     "timestamp": 1733517396459,
     "user": {
      "displayName": "Shimil Shijo",
      "userId": "13108531863900195790"
     },
     "user_tz": 300
    },
    "id": "CrgVA3Q-4PwY",
    "outputId": "f4b1c33a-8905-4e2a-ee65-18448f9f2380"
   },
   "outputs": [
    {
     "data": {
      "text/plain": [
       "Index(['Job_ID', 'Agency', 'Posting_Type', '#_Of_Positions', 'Business_Title',\n",
       "       'Civil_Service_Title', 'Title_Classification', 'Title_Code_No', 'Level',\n",
       "       'Job_Category', 'Full-Time_Part-Time_indicator', 'Career_Level',\n",
       "       'Salary_Range_From', 'Salary_Range_To', 'Salary_Frequency',\n",
       "       'Work_Location', 'Division/Work_Unit', 'Job_Description',\n",
       "       'Minimum_Qual_Requirements', 'Preferred_Skills',\n",
       "       'Additional_Information', 'To_Apply', 'Hours/Shift', 'Work_Location_1',\n",
       "       'Recruitment_Contact', 'Residency_Requirement', 'Posting_Date',\n",
       "       'Post_Until', 'Posting_Updated', 'Process_Date'],\n",
       "      dtype='object')"
      ]
     },
     "execution_count": 6,
     "metadata": {},
     "output_type": "execute_result"
    }
   ],
   "source": [
    "#To ensure uniformity in naming,replace all the spaces in column names with underscore\n",
    "jobs.columns = jobs.columns.str.replace(\" \", \"_\")\n",
    "\n",
    "#replace / with _ in the 'Full-Time/Part-Time_indicator' field\n",
    "jobs = jobs.rename(columns={'Full-Time/Part-Time_indicator': 'Full-Time_Part-Time_indicator'})\n",
    "\n",
    "#print new column names\n",
    "jobs.columns"
   ]
  },
  {
   "cell_type": "markdown",
   "metadata": {
    "id": "748WgGIOyWW_"
   },
   "source": [
    "### B. Check Missing Values"
   ]
  },
  {
   "cell_type": "code",
   "execution_count": 7,
   "metadata": {
    "colab": {
     "base_uri": "https://localhost:8080/"
    },
    "executionInfo": {
     "elapsed": 6,
     "status": "ok",
     "timestamp": 1733517396459,
     "user": {
      "displayName": "Shimil Shijo",
      "userId": "13108531863900195790"
     },
     "user_tz": 300
    },
    "id": "eg4JwwO6qVdX",
    "outputId": "0a136743-a314-4d26-f61c-269a73770a68"
   },
   "outputs": [
    {
     "name": "stdout",
     "output_type": "stream",
     "text": [
      "Job_ID                              0\n",
      "Agency                              0\n",
      "Posting_Type                        0\n",
      "#_Of_Positions                      0\n",
      "Business_Title                      0\n",
      "Civil_Service_Title                 0\n",
      "Title_Classification                0\n",
      "Title_Code_No                       0\n",
      "Level                               0\n",
      "Job_Category                        0\n",
      "Full-Time_Part-Time_indicator       0\n",
      "Career_Level                        0\n",
      "Salary_Range_From                   0\n",
      "Salary_Range_To                     0\n",
      "Salary_Frequency                    0\n",
      "Work_Location                       0\n",
      "Division/Work_Unit                  0\n",
      "Job_Description                     2\n",
      "Minimum_Qual_Requirements          60\n",
      "Preferred_Skills                 1809\n",
      "Additional_Information           2704\n",
      "To_Apply                         1575\n",
      "Hours/Shift                      4006\n",
      "Work_Location_1                  3665\n",
      "Recruitment_Contact              5411\n",
      "Residency_Requirement               0\n",
      "Posting_Date                        0\n",
      "Post_Until                       3749\n",
      "Posting_Updated                     0\n",
      "Process_Date                        0\n",
      "dtype: int64\n"
     ]
    }
   ],
   "source": [
    "# Check for missing values\n",
    "missing_values = jobs.isnull().sum()\n",
    "print(missing_values)"
   ]
  },
  {
   "cell_type": "markdown",
   "metadata": {
    "id": "VCORLoWfw9ka"
   },
   "source": [
    "**Interpretation:**\n",
    "\n",
    "The fields `Job Description`,`Minimum Qual Requirements`,`Preferred skills`,\n",
    "`Additional Information`,`To Apply`,`Hours/Shift`,`Work Location`,`Recruitment Contact` and `Post Until` has null values. We don't need to handle these values since we are not using most of them.                 \n"
   ]
  },
  {
   "cell_type": "markdown",
   "metadata": {
    "id": "l1dUME90yLwr"
   },
   "source": [
    "### C.Remove Unnecessary Columns"
   ]
  },
  {
   "cell_type": "code",
   "execution_count": 8,
   "metadata": {
    "colab": {
     "base_uri": "https://localhost:8080/"
    },
    "executionInfo": {
     "elapsed": 5,
     "status": "ok",
     "timestamp": 1733517396459,
     "user": {
      "displayName": "Shimil Shijo",
      "userId": "13108531863900195790"
     },
     "user_tz": 300
    },
    "id": "ZjY6XiFSwKBu",
    "outputId": "3d99a1d4-b986-4957-f629-1723134defa5"
   },
   "outputs": [
    {
     "data": {
      "text/plain": [
       "Index(['Agency', 'Posting_Type', '#_Of_Positions', 'Business_Title',\n",
       "       'Civil_Service_Title', 'Title_Classification', 'Title_Code_No', 'Level',\n",
       "       'Job_Category', 'Full-Time_Part-Time_indicator', 'Career_Level',\n",
       "       'Salary_Range_From', 'Salary_Range_To', 'Salary_Frequency',\n",
       "       'Work_Location', 'Division/Work_Unit', 'Job_Description',\n",
       "       'Minimum_Qual_Requirements', 'Preferred_Skills',\n",
       "       'Additional_Information', 'To_Apply', 'Hours/Shift', 'Work_Location_1',\n",
       "       'Recruitment_Contact', 'Residency_Requirement', 'Posting_Date',\n",
       "       'Post_Until', 'Posting_Updated', 'Process_Date'],\n",
       "      dtype='object')"
      ]
     },
     "execution_count": 8,
     "metadata": {},
     "output_type": "execute_result"
    }
   ],
   "source": [
    "# Remove unnecessary columns\n",
    "# Drop Job_ID since it is a unique identifier\n",
    "if 'Job_ID' in jobs.columns:\n",
    "    jobs = jobs.drop(columns=['Job_ID'])\n",
    "jobs.columns"
   ]
  },
  {
   "cell_type": "markdown",
   "metadata": {},
   "source": [
    "### D.Encoding"
   ]
  },
  {
   "cell_type": "code",
   "execution_count": 9,
   "metadata": {},
   "outputs": [],
   "source": [
    "#1. Binary Encoding\n",
    "# making Competitive field is binary\n",
    "jobs['Competitive'] = jobs['Title_Classification'].apply(\n",
    "    lambda x: 1 if 'Competitive' in x and 'Non-Competitive' not in x else 0\n",
    ")"
   ]
  },
  {
   "cell_type": "code",
   "execution_count": 10,
   "metadata": {},
   "outputs": [],
   "source": [
    "#2. Label Encoding\n",
    "\n",
    "#define fields to be encoded\n",
    "population_columns = [\n",
    "    'Posting_Type',\n",
    "    'Agency',\n",
    "    'Career_Level',\n",
    "    'Full-Time_Part-Time_indicator',\n",
    "    'Civil_Service_Title'\n",
    "]\n",
    "#  Convert categorical columns to numerical using LabelEncoder\n",
    "label_encoder = LabelEncoder()\n",
    "\n",
    "for column in population_columns:\n",
    "    if jobs[column].dtype == 'object':\n",
    "        jobs[column] = label_encoder.fit_transform(jobs[column])"
   ]
  },
  {
   "cell_type": "markdown",
   "metadata": {
    "id": "Omh_03V42ZAQ"
   },
   "source": [
    "## Research Question 1 :  Do different populations within similar job titles have observable salary differences?"
   ]
  },
  {
   "cell_type": "markdown",
   "metadata": {
    "id": "qVQ9VCyABfDY"
   },
   "source": [
    "### A.  Regression Analysis"
   ]
  },
  {
   "cell_type": "code",
   "execution_count": 11,
   "metadata": {
    "colab": {
     "base_uri": "https://localhost:8080/"
    },
    "executionInfo": {
     "elapsed": 7,
     "status": "ok",
     "timestamp": 1733517396579,
     "user": {
      "displayName": "Shimil Shijo",
      "userId": "13108531863900195790"
     },
     "user_tz": 300
    },
    "id": "mpvDH48k9uXR",
    "outputId": "4a531782-74b5-4386-ea22-4a5205dcba48"
   },
   "outputs": [
    {
     "name": "stdout",
     "output_type": "stream",
     "text": [
      "\n",
      "----------------------------Regression Equation-----------------------------------\n",
      "Average_Salary = 65787.02 + (363.08) * Posting_Type + (-199.90) * Agency + (11199.68) * Career_Level + (-71883.26) * Full-Time_Part-Time_indicator \n",
      "\n",
      "\n",
      "\n",
      "------------------------------MODEL SUMMARY------------------------------------------\n",
      "                            OLS Regression Results                            \n",
      "==============================================================================\n",
      "Dep. Variable:         Average_Salary   R-squared:                       0.199\n",
      "Model:                            OLS   Adj. R-squared:                  0.199\n",
      "Method:                 Least Squares   F-statistic:                     336.6\n",
      "Date:                Sat, 07 Dec 2024   Prob (F-statistic):          5.05e-259\n",
      "Time:                        13:36:39   Log-Likelihood:                -63633.\n",
      "No. Observations:                5411   AIC:                         1.273e+05\n",
      "Df Residuals:                    5406   BIC:                         1.273e+05\n",
      "Df Model:                           4                                         \n",
      "Covariance Type:            nonrobust                                         \n",
      "=================================================================================================\n",
      "                                    coef    std err          t      P>|t|      [0.025      0.975]\n",
      "-------------------------------------------------------------------------------------------------\n",
      "const                          6.579e+04   1612.615     40.795      0.000    6.26e+04    6.89e+04\n",
      "Posting_Type                    363.0820    842.759      0.431      0.667   -1289.066    2015.230\n",
      "Agency                         -199.9039     38.808     -5.151      0.000    -275.984    -123.824\n",
      "Career_Level                    1.12e+04    545.495     20.531      0.000    1.01e+04    1.23e+04\n",
      "Full-Time_Part-Time_indicator -7.188e+04   2250.683    -31.938      0.000   -7.63e+04   -6.75e+04\n",
      "==============================================================================\n",
      "Omnibus:                      648.955   Durbin-Watson:                   2.000\n",
      "Prob(Omnibus):                  0.000   Jarque-Bera (JB):             3833.502\n",
      "Skew:                           0.415   Prob(JB):                         0.00\n",
      "Kurtosis:                       7.039   Cond. No.                         154.\n",
      "==============================================================================\n",
      "\n",
      "Notes:\n",
      "[1] Standard Errors assume that the covariance matrix of the errors is correctly specified.\n"
     ]
    }
   ],
   "source": [
    "# Select relevant columns\n",
    "population_columns = [\n",
    "    'Posting_Type',\n",
    "    'Agency',\n",
    "    'Career_Level',\n",
    "    'Full-Time_Part-Time_indicator'\n",
    "]\n",
    "\n",
    "# Calculate the Average Salary\n",
    "jobs['Average_Salary'] = (jobs['Salary_Range_From'] + jobs['Salary_Range_To']) / 2\n",
    "\n",
    "# Calculate the average salary for each Civil_Service_Title\n",
    "average_salary_by_title = jobs.groupby('Civil_Service_Title')['Average_Salary'].transform('mean')\n",
    "\n",
    "# Update the 'Average_Salary'\n",
    "jobs['Average_Salary'] = average_salary_by_title\n",
    "\n",
    "# Select the necessary columns\n",
    "jobs_population = jobs[population_columns + ['Average_Salary']]\n",
    "\n",
    "X = jobs_population[population_columns]\n",
    "y = jobs_population['Average_Salary']\n",
    "\n",
    "# Train\n",
    "model = LinearRegression()\n",
    "model.fit(X, y)\n",
    "\n",
    "# Predict the salary\n",
    "y_pred = model.predict(X)\n",
    "\n",
    "coefficients = model.coef_\n",
    "intercept = model.intercept_\n",
    "\n",
    "equation = f\"Average_Salary = {intercept:.2f} \"\n",
    "for i, coef in enumerate(coefficients):\n",
    "    equation += f\"+ ({coef:.2f}) * {population_columns[i]} \"\n",
    "\n",
    "print(\"\\n----------------------------Regression Equation-----------------------------------\")\n",
    "print(equation)\n",
    "\n",
    "# Add constant for statsmodels\n",
    "X = sm.add_constant(X)\n",
    "\n",
    "# Train Linear Regression Model using statsmodels\n",
    "model = sm.OLS(y, X).fit()\n",
    "\n",
    "# Print regression summary\n",
    "print(\"\\n\\n\\n------------------------------MODEL SUMMARY------------------------------------------\")\n",
    "print(model.summary())\n"
   ]
  },
  {
   "cell_type": "markdown",
   "metadata": {
    "id": "LZ5igbmRCSni"
   },
   "source": [
    "### Answer to Research Question 1:\n",
    "**A. Regression Analysis**\n",
    "\n",
    "Yes, different populations within similar job titles exhibit observable salary differences, as evidenced by several statistically significant variables:\n",
    "\n",
    "- Agency: Different agencies have a significant impact on salary, as seen by the negative coefficient for Agency (-199.90). This suggests that employees working in different agencies may earn different salaries even within similar job titles.\n",
    "\n",
    "- Career_Level: The significant positive relationship between Career_Level and salary (+11199.68) shows that career progression or level within an organization significantly affects the salary, implying that employees at higher levels within similar job titles earn higher salaries.\n",
    "\n",
    "- Full-Time vs. Part-Time: The significant negative coefficient for the Full-Time_Part-Time_indicator (-71883.26) indicates that part-time workers in similar job titles earn significantly less than their full-time counterparts.\n",
    "- Posting_type is also positively correlated with salary(+363.0820)\n",
    "\n",
    "Therefore, while employees within the same job title may be in similar roles, differences in Agency, Career_Level, and Full-Time_Part-Time_indicator can lead to noticeable salary disparities across populations."
   ]
  },
  {
   "cell_type": "markdown",
   "metadata": {
    "id": "E7VWdZg0BqqJ"
   },
   "source": [
    "## B.Clustering"
   ]
  },
  {
   "cell_type": "code",
   "execution_count": 12,
   "metadata": {
    "executionInfo": {
     "elapsed": 5,
     "status": "ok",
     "timestamp": 1733517396579,
     "user": {
      "displayName": "Shimil Shijo",
      "userId": "13108531863900195790"
     },
     "user_tz": 300
    },
    "id": "p2gilWCSDDzE"
   },
   "outputs": [],
   "source": [
    "population_columns = [\n",
    "    'Posting_Type',\n",
    "    'Agency',\n",
    "    'Career_Level',\n",
    "    'Full-Time_Part-Time_indicator',\n",
    "    'Salary_Range_From',\n",
    "    'Salary_Range_To',\n",
    "    'Civil_Service_Title'\n",
    "]\n",
    "\n",
    "# Calculate the Average Salary\n",
    "jobs['Average_Salary'] = (jobs['Salary_Range_From'] + jobs['Salary_Range_To']) / 2\n",
    "\n",
    "# Scale the data using StandardScaler\n",
    "scaler = StandardScaler()\n",
    "X = jobs[population_columns].values\n",
    "X_scaled = scaler.fit_transform(X)\n"
   ]
  },
  {
   "cell_type": "code",
   "execution_count": 13,
   "metadata": {
    "colab": {
     "base_uri": "https://localhost:8080/",
     "height": 395
    },
    "executionInfo": {
     "elapsed": 4393,
     "status": "ok",
     "timestamp": 1733517400968,
     "user": {
      "displayName": "Shimil Shijo",
      "userId": "13108531863900195790"
     },
     "user_tz": 300
    },
    "id": "r9z8RSQ7ERcE",
    "outputId": "52005592-20a4-4ad5-94ce-951360818466"
   },
   "outputs": [
    {
     "data": {
      "image/png": "[encoded data removed]",
      "text/plain": [
       "<seaborn._core.plot.Plot at 0x26f68c1cf20>"
      ]
     },
     "execution_count": 13,
     "metadata": {
      "image/png": {
       "height": 378.25,
       "width": 509.15
      }
     },
     "output_type": "execute_result"
    }
   ],
   "source": [
    "# Elbow Method\n",
    "inertia = []\n",
    "for k in range(1, 15):\n",
    "    kmeans = KMeans(n_clusters=k, n_init=20, random_state=49)\n",
    "    kmeans.fit(X_scaled)\n",
    "    inertia.append([k, kmeans.inertia_])\n",
    "\n",
    "# Plot Elbow Method\n",
    "(\n",
    "    pd.DataFrame(inertia, columns=['k', 'Inertia'])\n",
    "    .pipe(so.Plot, x='k', y='Inertia')\n",
    "    .add(so.Line(marker='o'))\n",
    "    .label(title=\"Elbow Method: Optimal Number of Clusters\", xlabel=\"Number of Clusters (k)\", ylabel=\"Inertia\")\n",
    ")\n"
   ]
  },
  {
   "cell_type": "code",
   "execution_count": null,
   "metadata": {
    "colab": {
     "base_uri": "https://localhost:8080/",
     "height": 395
    },
    "executionInfo": {
     "elapsed": 11449,
     "status": "ok",
     "timestamp": 1733517412414,
     "user": {
      "displayName": "Shimil Shijo",
      "userId": "13108531863900195790"
     },
     "user_tz": 300
    },
    "id": "OhRZO1sXESqo",
    "outputId": "143c86f6-5f2e-43e4-8129-ea43cb64c7f4"
   },
   "outputs": [],
   "source": [
    "# Silhouette Analysis\n",
    "silhouette = []\n",
    "for k in range(2, 15):\n",
    "    kmeans = KMeans(n_clusters=k, n_init=20, random_state=49)\n",
    "    kmeans.fit(X_scaled)\n",
    "    silhouette.append([k, silhouette_score(X_scaled, kmeans.labels_)])\n",
    "\n",
    "# Plot Silhouette Scores\n",
    "(\n",
    "    pd.DataFrame(silhouette, columns=['k', 'Silhouette'])\n",
    "    .pipe(so.Plot, x='k', y='Silhouette')\n",
    "    .add(so.Line(marker='o'))\n",
    "    .label(title=\"Silhouette Analysis: Optimal Number of Clusters\", xlabel=\"Number of Clusters (k)\", ylabel=\"Silhouette Score\")\n",
    ")\n"
   ]
  },
  {
   "cell_type": "code",
   "execution_count": null,
   "metadata": {
    "colab": {
     "base_uri": "https://localhost:8080/",
     "height": 1000
    },
    "executionInfo": {
     "elapsed": 2412,
     "status": "ok",
     "timestamp": 1733517414822,
     "user": {
      "displayName": "Shimil Shijo",
      "userId": "13108531863900195790"
     },
     "user_tz": 300
    },
    "id": "6gAECqGmFBL4",
    "outputId": "44ba799e-fb7c-445e-896e-44ec78b9b9bd"
   },
   "outputs": [],
   "source": [
    "optimal_k = 6\n",
    "kmeans = KMeans(n_clusters=optimal_k, n_init=20, random_state=49)\n",
    "jobs['Cluster'] = kmeans.fit_predict(X_scaled)\n",
    "\n",
    "# Visualization: Scatter Plots\n",
    "fig, axes = plt.subplots(2, 2, figsize=(12, 10))\n",
    "columns = ['Posting_Type', 'Agency', 'Career_Level', 'Full-Time_Part-Time_indicator']\n",
    "\n",
    "for i, ax in enumerate(axes.flatten()):\n",
    "    sns.scatterplot(\n",
    "        x=jobs[columns[i]],\n",
    "        y=jobs['Average_Salary'],\n",
    "        hue=jobs['Cluster'].astype(str),\n",
    "        palette=\"viridis\",\n",
    "        ax=ax\n",
    "    )\n",
    "    ax.set_title(f\"Average Salary vs {columns[i]}\")\n",
    "    ax.set_xlabel(columns[i])\n",
    "    ax.set_ylabel('Average Salary')\n",
    "\n",
    "plt.tight_layout()\n",
    "plt.show()\n"
   ]
  },
  {
   "cell_type": "markdown",
   "metadata": {},
   "source": [
    "### Answer to Research Question 1:\n",
    "**B. Clustering**\n",
    "\n",
    "- The Elbow method suggests the optimal number of clusters as 6, while the Silhouette score indicates 12 as optimal, with a local maximum also at 6. Considering both methods, the number of clusters (k) is set to 6.\n",
    "- The clustering analysis struggles to form well-defined clusters using the features  `Posting_Type`,`Agency`,`Career_Level`,`Full-Time_Part-Time_indicator` in relation to `Average_Salary`"
   ]
  },
  {
   "cell_type": "markdown",
   "metadata": {
    "id": "iknTXvA1HdBQ"
   },
   "source": [
    "## Research Question 2 : What are the main wage distinctions between competitive job postings and those that are not?"
   ]
  },
  {
   "cell_type": "code",
   "execution_count": null,
   "metadata": {
    "colab": {
     "base_uri": "https://localhost:8080/",
     "height": 1000
    },
    "executionInfo": {
     "elapsed": 2386,
     "status": "ok",
     "timestamp": 1733517417204,
     "user": {
      "displayName": "Shimil Shijo",
      "userId": "13108531863900195790"
     },
     "user_tz": 300
    },
    "id": "VjYaOAvjFOap",
    "outputId": "4694ce55-51df-4da0-af9d-6d2ea78c7afb"
   },
   "outputs": [],
   "source": [
    "\n",
    "# 1. Feature Engineering\n",
    "jobs['Average_Salary'] = (jobs['Salary_Range_From'] + jobs['Salary_Range_To']) / 2\n",
    "X = jobs[['Average_Salary', 'Job_Category']]\n",
    "y = jobs['Competitive']\n",
    "\n",
    "# 2.Encode categorical features\n",
    "X = pd.get_dummies(X, columns=['Job_Category'], drop_first=True)\n",
    "\n",
    "# 3. Train-Test Split\n",
    "X_train, X_test, y_train, y_test = train_test_split(X, y, test_size=0.3, random_state=42)\n",
    "\n",
    "# 4. Train Model\n",
    "model = RandomForestClassifier(random_state=42)\n",
    "model.fit(X_train, y_train)\n",
    "\n",
    "# 5. Evaluate Model\n",
    "y_pred = model.predict(X_test)\n",
    "y_prob = model.predict_proba(X_test)[:, 1]\n",
    "print(\"\\nClassification Report:\\n\")\n",
    "print(classification_report(y_test, y_pred))\n",
    "\n",
    "# 6. Confusion Matrix\n",
    "cm = confusion_matrix(y_test, y_pred)\n",
    "plt.figure(figsize=(8, 6))\n",
    "sns.heatmap(cm, annot=True, fmt='d', cmap='Blues', xticklabels=['Non-Competitive', 'Competitive'],\n",
    "            yticklabels=['Non-Competitive', 'Competitive'])\n",
    "plt.title(\"Confusion Matrix\")\n",
    "plt.xlabel(\"Predicted Label\")\n",
    "plt.ylabel(\"True Label\")\n",
    "plt.show()\n",
    "\n",
    "# 7. ROC Curve\n",
    "fpr, tpr, _ = roc_curve(y_test, y_prob)\n",
    "roc_auc = auc(fpr, tpr)\n",
    "\n",
    "plt.figure(figsize=(8, 6))\n",
    "plt.plot(fpr, tpr, color='darkorange', lw=2, label=f\"ROC Curve (AUC = {roc_auc:.2f})\")\n",
    "plt.plot([0, 1], [0, 1], color='navy', lw=2, linestyle='--')\n",
    "plt.title(\"Receiver Operating Characteristic (ROC) Curve\")\n",
    "plt.xlabel(\"False Positive Rate\")\n",
    "plt.ylabel(\"True Positive Rate\")\n",
    "plt.legend(loc=\"lower right\")\n",
    "plt.show()\n",
    "\n",
    "# 8. Precision-Recall Curve\n",
    "precision, recall, _ = precision_recall_curve(y_test, y_prob)\n",
    "\n",
    "plt.figure(figsize=(8, 6))\n",
    "plt.plot(recall, precision, color='green', lw=2)\n",
    "plt.title(\"Precision-Recall Curve\")\n",
    "plt.xlabel(\"Recall\")\n",
    "plt.ylabel(\"Precision\")\n",
    "plt.show()\n",
    "\n",
    "# 9. Histogram of Predicted Probabilities\n",
    "plt.figure(figsize=(8, 6))\n",
    "sns.histplot(y_prob, bins=20, kde=True, color='purple')\n",
    "plt.title(\"Histogram of Predicted Probabilities\")\n",
    "plt.xlabel(\"Predicted Probability for Competitive (Class 1)\")\n",
    "plt.ylabel(\"Frequency\")\n",
    "plt.show()\n",
    "\n",
    "# 10. Comparative Analysis\n",
    "competitive_salaries = jobs[jobs['Competitive'] == 1]['Average_Salary']\n",
    "non_competitive_salaries = jobs[jobs['Competitive'] == 0]['Average_Salary']\n",
    "\n",
    "# Descriptive Stats\n",
    "print(\"\\nDescriptive Statistics for Competitive Salaries:\\n\", competitive_salaries.describe())\n",
    "print(\"\\nDescriptive Statistics for Non-Competitive Salaries:\\n\", non_competitive_salaries.describe())\n",
    "\n",
    "# Boxplot\n",
    "plt.figure(figsize=(8, 6))\n",
    "sns.boxplot(x='Competitive', y='Average_Salary', data=jobs, palette=\"coolwarm\")\n",
    "plt.title(\"Salary Comparison Between Competitive and Non-Competitive Jobs\")\n",
    "plt.xlabel(\"Competitive (1=Yes, 0=No)\")\n",
    "plt.ylabel(\"Average Salary\")\n",
    "plt.show()\n"
   ]
  },
  {
   "cell_type": "markdown",
   "metadata": {
    "id": "_vaQjHKPMfcD"
   },
   "source": [
    "### Answer to Research Problem\n",
    "\n",
    "**1. Classification Metrics and Confusion Matrix**\n",
    "- Accuracy: 95%  \n",
    "- Precision & Recall:\n",
    "  - Competitive (Label 1): Precision (96%), Recall (96%), F1-Score (96%)\n",
    "  - Non-Competitive (Label 0): Precision (93%), Recall (92%), F1-Score (92%)\n",
    "- Confusion Matrix:\n",
    "  - Correctly identified:  \n",
    "    - 517 non-competitive postings  \n",
    "    - 1023 competitive postings  \n",
    "  - Misclassifications:  \n",
    "    - 45 competitive as non-competitive  \n",
    "    - 39 non-competitive as competitive  \n",
    "\n",
    "**ROC Curve**\n",
    "- AUC: 0.97, indicating strong discriminatory power.\n",
    "\n",
    "**Precision-Recall Curve**\n",
    "- High precision and recall across thresholds, confirming reliable predictions, particularly for competitive postings.\n",
    "\n",
    "**Descriptive Salary Statistics**\n",
    " - Competitive Salaries:\n",
    "   - Median: $77,108  \n",
    "\n",
    "   - Mean: $78,281 (SD = $31,913)  \n",
    "   - Range: $20.64 - $226,875  \n",
    " - Non-Competitive Salaries:\n",
    "   - Median: $77,705  \n",
    "\n",
    "   - Mean: $81,641 (SD = $45,264)  \n",
    "   - Range: $15.45 - $317,000  \n",
    "\n",
    "**Insights on Wage Distinctions**\n",
    "- Median salaries are similar for both job types ($77,108 vs. $77,705).\n",
    "- Non-competitive roles show more salary variability, potentially reflecting senior or niche positions.\n",
    "- Competitive roles have more standardized salaries, likely influenced by market norms or organizational policies.\n",
    "\n",
    "\n",
    "**Histogram of Predicted Probabilities**\n",
    "     - Predominantly extreme values (near 0 or 1), indicating high model confidence.\n",
    "     - Few predictions with moderate probabilities (0.4 to 0.6), suggesting minimal ambiguity.\n",
    "\n",
    "**Boxplot: Salary Comparison**\n",
    "     - Non-Competitive Jobs (Class 0): Wider salary distribution, lower median, and fewer extreme outliers.\n",
    "     - Competitive Jobs (Class 1): Higher median, narrower salary range, with more high-salary outliers.\n",
    "   - Comparison:  \n",
    "     - Non-competitive jobs have higher salary variability but lower medians.  \n",
    "     - Competitive jobs have less variability and higher medians.\n",
    "\n",
    "\n",
    "**Summary:**\n",
    "\n",
    "Competitive job postings usually have more consistent salaries with smaller differences, while non-competitive job postings have a wider range of salaries, showing more variation, possibly due to different types of roles or experience levels.\n",
    "\n"
   ]
  },
  {
   "cell_type": "markdown",
   "metadata": {
    "id": "ALnlylapobof"
   },
   "source": [
    "## Research Question 3 : Do residency requirements make some organizations more likely to have open positions?"
   ]
  },
  {
   "cell_type": "code",
   "execution_count": null,
   "metadata": {},
   "outputs": [],
   "source": [
    "# Step 1: Preprocessing the text and labels\n",
    "def classify_residency_requirement(text):\n",
    "    '''Function to classify residency requirement'''\n",
    "    text = text.lower()\n",
    "    if 'residency is required' in text or 'city residency is required' in text:\n",
    "        return 'Residency Required'\n",
    "    elif 'residency is not required' in text or 'city residency is not required' in text or 'no residency requirement' in text:\n",
    "        return 'No Residency Required'\n",
    "    else:\n",
    "        return 'Unclear'\n",
    "\n",
    "\n",
    "# Apply the classification function to create a new column\n",
    "jobs['Residency_Requirement_Category'] = jobs['Residency_Requirement'].apply(classify_residency_requirement)\n",
    "\n",
    "# Step 2: Convert 'Agency' column to string\n",
    "jobs['Agency'] = jobs['Agency'].astype(str)\n",
    "\n",
    "# Step 3: Feature engineering using TF-IDF for the 'Residency_Requirement'\n",
    "X = jobs['Residency_Requirement'] \n",
    "y = jobs['Residency_Requirement_Category'] \n",
    "\n",
    "# Step 4: Split the data into training and testing sets\n",
    "X_train, X_test, y_train, y_test = train_test_split(X, y, test_size=0.2, random_state=42)\n",
    "\n",
    "# Step 5: Create a ML pipeline with TF-IDF and Logistic Regression with L2 regularization\n",
    "pipeline = make_pipeline(\n",
    "    TfidfVectorizer(stop_words='english'), \n",
    "    LogisticRegression(solver='liblinear', penalty='l2')\n",
    ")\n",
    "\n",
    "# Hyperparameter tuning using GridSearchCV for Logistic Regression\n",
    "param_grid = {\n",
    "    'logisticregression__C': [0.01, 0.1, 1, 10], \n",
    "    'logisticregression__max_iter': [100, 200, 300]  \n",
    "}\n",
    "\n",
    "# Step 6: GridSearchCV with cross-validation\n",
    "grid_search = GridSearchCV(pipeline, param_grid, cv=5, scoring='accuracy', n_jobs=-1)\n",
    "grid_search.fit(X_train, y_train)\n",
    "\n",
    "# Step 7: Best parameters and evaluation\n",
    "print(\"Best Parameters from GridSearchCV:\", grid_search.best_params_)\n",
    "\n",
    "# Step 8: Model evaluation on the test set\n",
    "best_model = grid_search.best_estimator_\n",
    "y_pred = best_model.predict(X_test)\n",
    "\n",
    "# Classification report for evaluation\n",
    "print(\"Classification Report:\")\n",
    "print(classification_report(y_test, y_pred))\n",
    "\n",
    "# Confusion Matrix\n",
    "conf_matrix = confusion_matrix(y_test, y_pred)\n",
    "\n",
    "# Plot the Confusion Matrix\n",
    "plt.figure(figsize=(8, 6))\n",
    "sns.heatmap(conf_matrix, annot=True, fmt='d', cmap='Blues', xticklabels=best_model.classes_, yticklabels=best_model.classes_)\n",
    "plt.title('Confusion Matrix')\n",
    "plt.xlabel('Predicted Label')\n",
    "plt.ylabel('True Label')\n",
    "plt.show()\n",
    "\n",
    "# Step 9: K-fold Cross-validation for better model evaluation\n",
    "kfold = KFold(n_splits=5, shuffle=True, random_state=42)\n",
    "cv_results = cross_val_score(best_model, X, y, cv=kfold, scoring='accuracy')\n",
    "print(f\"K-fold Cross-validation Results: {cv_results}\")\n",
    "print(f\"Mean CV Accuracy: {cv_results.mean()}\")\n",
    "\n",
    "agency_residency_group = jobs.groupby(['Agency', 'Residency_Requirement_Category'])['#_Of_Positions'].sum().reset_index()\n",
    "\n",
    "# Step 12: Define custom colors for each residency category\n",
    "category_colors = {\n",
    "    'Residency Required': 'blue',\n",
    "    'No Residency Required': 'green',\n",
    "    'Unclear': 'orange'\n",
    "}\n",
    "\n",
    "sns.set_palette([category_colors['Residency Required'], category_colors['No Residency Required'], category_colors['Unclear']])\n",
    "\n",
    "# Step 13: Visualization using bar plot\n",
    "plt.figure(figsize=(12, 6))\n",
    "sns.barplot(data=agency_residency_group, x='Agency', y='#_Of_Positions', hue='Residency_Requirement_Category', dodge=True)\n",
    "\n",
    "# Rotate agency names\n",
    "plt.xticks(rotation=90)\n",
    "\n",
    "# Set the title and labels\n",
    "plt.title('Job Postings by Agency and Residency Requirement')\n",
    "plt.xlabel('Agency')\n",
    "plt.ylabel('Number of Job Postings')\n",
    "\n",
    "handles, labels = plt.gca().get_legend_handles_labels()\n",
    "plt.legend(handles=handles, labels=['No Residency Required', 'Residency Required', 'Unclear'], title='Residency Requirement')\n",
    "\n",
    "plt.show()\n"
   ]
  },
  {
   "cell_type": "markdown",
   "metadata": {
    "id": "5fGft1mLYvlm"
   },
   "source": [
    "### Answer to Research Question 3:\n",
    "\n",
    "1. Best Parameters from GridSearchCV:\n",
    "   - The optimal parameters identified by GridSearchCV for the Logistic Regression model areC = 10 and max_iter = 100.\n",
    "2. Classification Report:\n",
    "   - Overall Accuracy: 100% (perfect classification).\n",
    "   - No Residency Required: Precision, recall, and F1-score are all 100%.\n",
    "   - Residency Required: Precision is 100%, but recall is 92%, meaning the model missed a few instances (false negatives).\n",
    "   - Unclear: Perfect performance with 100% precision, recall, and F1-score.\n",
    "   - Averages:\n",
    "     - Macro Average: Precision is 100%, recall is 97%, and F1-score is 98%.\n",
    "     - Weighted Average: All metrics are 100%, indicating the model works well across all classes.\n",
    "\n",
    "   - In summary, the model performs nearly perfectly, with a small drop in recall for \"Residency Required\".\n",
    "3. Confusion Matrix\n",
    "   - No Residency Required:476 correct predictions,0 false positives (incorrectly classified as \"Residency Required\" or \"Unclear\") and 1 false negative (incorrectly classified as \"Unclear\").\n",
    "   - Residency Required:11 correct predictions,0 false positives for \"No Residency Required\" or \"Unclear\" and 1 false negative (incorrectly classified as \"Unclear\").\n",
    "   - Unclear:593 correct predictions,1 false positive (incorrectly classified as \"No Residency Required\") and 1 false negative (incorrectly classified as \"Residency Required\").\n",
    "   - Overall, the matrix shows excellent performance with very few misclassifications.\n",
    "4. K-Fold Cross-Validation\n",
    "   - Mean cross-validation accuracy is approximately 0.9957 (99.57%), which indicates that the model performs very well on unseen data and is highly consistent across the different folds. \n",
    "\n",
    "- The dataset shows significant variation across agencies, with some agencies having a high number of postings that either require residency, do not require residency, or have unclear requirements."
   ]
  },
  {
   "cell_type": "markdown",
   "metadata": {
    "id": "cBAMW8Ycf1ji"
   },
   "source": [
    "## Reseach Question 4 : Does the demography that is drawn to external postings differ from that of internal postings?"
   ]
  },
  {
   "cell_type": "code",
   "execution_count": null,
   "metadata": {
    "colab": {
     "base_uri": "https://localhost:8080/",
     "height": 1000
    },
    "executionInfo": {
     "elapsed": 1334,
     "status": "ok",
     "timestamp": 1733517419430,
     "user": {
      "displayName": "Shimil Shijo",
      "userId": "13108531863900195790"
     },
     "user_tz": 300
    },
    "id": "ELzm3KnOOgw3",
    "outputId": "4cf265fe-72c3-4df6-c56b-8651a5353f54"
   },
   "outputs": [],
   "source": [
    "results_summary = {}\n",
    "\n",
    "jobs['Posting_Type'] = jobs['Posting_Type'].replace({0: 'External', 1: 'Internal'})\n",
    "\n",
    "# Step 1: Data Overview\n",
    "results_summary['Data Overview'] = jobs.info()\n",
    "\n",
    "# Step 2: Posting Type Distribution\n",
    "posting_counts = jobs['Posting_Type'].value_counts()\n",
    "results_summary['Posting Type Distribution'] = posting_counts.to_frame()\n",
    "\n",
    "plt.figure(figsize=(8, 5))\n",
    "sns.countplot(data=jobs, x='Posting_Type', palette='viridis')\n",
    "plt.title(\"Distribution of Posting Types (External vs Internal\")\n",
    "plt.xlabel(\"Posting Type\")\n",
    "plt.ylabel(\"Count\")\n",
    "plt.show()\n",
    "print(\"\\n\\n\")\n",
    "\n",
    "# Step 3: Salary Distribution by Posting Type\n",
    "jobs['Average_Salary'] = (jobs['Salary_Range_From'] + jobs['Salary_Range_To']) / 2\n",
    "salary_summary = jobs.groupby('Posting_Type')['Average_Salary'].describe()\n",
    "results_summary['Salary Summary'] = salary_summary\n",
    "\n",
    "plt.figure(figsize=(10, 6))\n",
    "sns.boxplot(data=jobs, x='Posting_Type', y='Average_Salary', palette='coolwarm')\n",
    "plt.title(\"Salary Distribution by Posting Type(External vs Internal\")\n",
    "plt.xlabel(\"Posting Type\")\n",
    "plt.ylabel(\"Average Salary\")\n",
    "plt.show()\n",
    "print(\"\\n\\n\")\n",
    "\n",
    "# Step 4: Career Levels by Posting Type\n",
    "career_level_counts = jobs.groupby(['Posting_Type', 'Career_Level']).size().unstack(fill_value=0)\n",
    "results_summary['Career Levels by Posting Type'] = career_level_counts\n",
    "\n",
    "career_level_counts.plot(kind='bar', stacked=True, figsize=(10, 6), colormap='plasma')\n",
    "plt.title(\"Career Levels by Posting Type(External vs Internal\")\n",
    "plt.xlabel(\"Posting Type\")\n",
    "plt.ylabel(\"Count\")\n",
    "plt.legend(title=\"Career Levels\", bbox_to_anchor=(1.05, 1), loc='upper left')\n",
    "plt.tight_layout()\n",
    "plt.show()\n",
    "print(\"\\n\\n\")\n",
    "work_location_counts = jobs.groupby(['Posting_Type', 'Work_Location']).size().unstack(fill_value=0)\n",
    "results_summary['Work Locations by Posting Type'] = work_location_counts.head()\n",
    "\n",
    "top_locations = jobs['Work_Location'].value_counts().head(10).index\n",
    "top_jobs = jobs[jobs['Work_Location'].isin(top_locations)]\n",
    "\n",
    "plt.figure(figsize=(12, 6))\n",
    "sns.countplot(data=top_jobs, x='Work_Location', hue='Posting_Type', palette='mako', order=top_locations)\n",
    "plt.title(\"Top 10 Work Locations by Posting Type(External vs Internal\")\n",
    "plt.xlabel(\"Work Location\")\n",
    "plt.ylabel(\"Count\")\n",
    "plt.xticks(rotation=90)\n",
    "plt.legend(title=\"Posting Type\")\n",
    "plt.tight_layout()\n",
    "plt.show()\n"
   ]
  },
  {
   "cell_type": "code",
   "execution_count": null,
   "metadata": {
    "colab": {
     "base_uri": "https://localhost:8080/"
    },
    "executionInfo": {
     "elapsed": 7,
     "status": "ok",
     "timestamp": 1733517419430,
     "user": {
      "displayName": "Shimil Shijo",
      "userId": "13108531863900195790"
     },
     "user_tz": 300
    },
    "id": "a3tPRmjXpT6Y",
    "outputId": "80829b02-9127-4482-ed0b-fc119b2446fa"
   },
   "outputs": [],
   "source": [
    "def display_summary(key, table):\n",
    "    '''Function to Tabulate above results'''\n",
    "    print(f\"=== {key} ===\")\n",
    "    if isinstance(table, pd.DataFrame):\n",
    "        print(tabulate(table, headers='keys', tablefmt='fancy_grid', showindex=True))\n",
    "    else:\n",
    "        print(table)\n",
    "    print(\"\\n\")\n",
    "\n",
    "# display\n",
    "for key, table in results_summary.items():\n",
    "    if key == \"Work Locations by Posting Type\":\n",
    "        continue  # Skip displaying this table\n",
    "    display_summary(key, table)\n"
   ]
  },
  {
   "cell_type": "markdown",
   "metadata": {
    "id": "3rV6Se3si2-p"
   },
   "source": [
    "### Answer to Research Question 4\n",
    "\n",
    "1. Bar Chart(Distribution of posting Type)\n",
    "    - The number of External job posting and internal job postings are some what balanced and count of internal job posting is little bit higher than external job posting.\n",
    "2. Box Plot(Salary Distribution by Posting Type)\n",
    "   - The median salary is slightly higher for internal postings compared to external postings.That means,internal postings tend to offer slightly higher median salaries than external postings.\n",
    "   - The IQR appears to be similar for both posting types, indicating comparable variability in the middle 50% of salaries.\n",
    "   - Both distributions have outliers on the higher and lower ends. Hence both posting types occasionally result in exceptionally high/low salaries, but these cases are rare.\n",
    "   -  The salary distribution across both types is generally consistent.\n",
    "3. Stacked Bar Chart(Carrer Levels by Posting Type)\n",
    "   - For both external and internal postings, the majority of job roles are categorized as `Experienced (non-manager)`.\n",
    "   - areer levels such as `Manager`, `Student`, `Entry-Level` and `Executive` have smaller proportions of the total postings.\n",
    "   - The proportions of career levels for external and internal postings are very similar, suggesting consistency in the distribution of job roles regardless of the posting type.\n",
    "   - Most postings, whether internal or external, are targeted at experienced professionals, indicating a primary focus on this career level.\n",
    "   - The representation of entry-level and student roles is quite small, which may reflect organizational hiring strategies or job market conditions.\n",
    "4. Grouped Bar Chart(Work Locations by Posting Type)\n",
    "   - `30-30 Thomson Ave L I City Qns` and `96-05 Horace Harding Expway` have the highest posting counts for both external and internal types, with nearly equal distribution between the two.\n",
    "   - Locations like `55 Water St NY NY` and `59-17 Junction Blvd Corona Ny` have  higher counts for internal postings, whereas locations like `4 World Trade Center` show a slight preference for external postings.\n",
    "   - For most locations, the counts for external and internal postings are very similar, indicating no strong preference for either type of posting at these locations.\n",
    "\n"
   ]
  },
  {
   "cell_type": "markdown",
   "metadata": {},
   "source": [
    "## Conclusion\n",
    "\n",
    "We successfully addressed all four research questions, and this project provides a comprehensive interpretation of NYC job postings through data analysis and visualization"
   ]
  }
 ],
 "metadata": {
  "colab": {
   "authorship_tag": "ABX9TyMTiNDGup8H7QqvmBh/Y361",
   "mount_file_id": "1OO8E87jAO7IRp8aILk8ji6EZrxguQcyX",
   "provenance": []
  },
  "kernelspec": {
   "display_name": "Python 3 (ipykernel)",
   "language": "python",
   "name": "python3"
  },
  "language_info": {
   "codemirror_mode": {
    "name": "ipython",
    "version": 3
   },
   "file_extension": ".py",
   "mimetype": "text/x-python",
   "name": "python",
   "nbconvert_exporter": "python",
   "pygments_lexer": "ipython3",
   "version": "3.12.4"
  }
 },
 "nbformat": 4,
 "nbformat_minor": 4
}
